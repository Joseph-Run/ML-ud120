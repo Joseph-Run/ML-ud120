{
 "cells": [
  {
   "cell_type": "markdown",
   "metadata": {},
   "source": [
    "# This is the code to accompany the Lesson 2 (Naive Bayes) mini-project\n",
    "\n",
    "### Use a Naive Bayes Classifier to identify emails by their authors\n",
    "\n",
    "authors and labels:\n",
    "- Sara has label `0`\n",
    "- Chris has label `1`"
   ]
  },
  {
   "cell_type": "code",
   "execution_count": 3,
   "metadata": {},
   "outputs": [],
   "source": [
    "import sys\n",
    "from time import time\n",
    "sys.path.append(\"../utils/\")\n",
    "\n",
    "from email_preprocess import preprocess"
   ]
  },
  {
   "cell_type": "markdown",
   "metadata": {},
   "source": [
    "- `features_train` and `features_test` are the features for the training and testing datasets, respectively\n",
    "- `labels_train` and `labels_test` are the corresponding item labels"
   ]
  },
  {
   "cell_type": "code",
   "execution_count": 33,
   "metadata": {},
   "outputs": [
    {
     "name": "stdout",
     "output_type": "stream",
     "text": [
      "no. of Chris training emails: 7936\n",
      "no. of Sara training emails: 7884\n"
     ]
    }
   ],
   "source": [
    "features_train, features_test, labels_train, labels_test = preprocess()"
   ]
  },
  {
   "cell_type": "markdown",
   "metadata": {},
   "source": [
    "## ↓↓↓ Your Code Goes Here ↓↓↓"
   ]
  },
  {
   "cell_type": "code",
   "execution_count": 34,
   "metadata": {},
   "outputs": [],
   "source": [
    "from sklearn.naive_bayes import GaussianNB\n",
    "from sklearn.metrics import accuracy_score\n",
    "import matplotlib.pyplot as plt\n",
    "clf = GaussianNB()\n",
    "%matplotlib inline"
   ]
  },
  {
   "cell_type": "code",
   "execution_count": 35,
   "metadata": {},
   "outputs": [
    {
     "name": "stdout",
     "output_type": "stream",
     "text": [
      "Training Time: 3.151 s\n",
      "Predicting Time: 0.388 s\n",
      "0.9732650739476678\n"
     ]
    }
   ],
   "source": [
    "t0 = time()\n",
    "clf.fit(features_train, labels_train)\n",
    "print(\"Training Time:\", round(time()-t0, 3), \"s\")\n",
    "\n",
    "t0 = time()\n",
    "pred = clf.predict(features_test)\n",
    "print(\"Predicting Time:\", round(time()-t0, 3), \"s\")\n",
    "accuracy = accuracy_score(pred, labels_test)\n",
    "print(accuracy)"
   ]
  }
 ],
 "metadata": {
  "kernelspec": {
   "display_name": "Python 3.8.0 64-bit",
   "language": "python",
   "name": "python3"
  },
  "language_info": {
   "codemirror_mode": {
    "name": "ipython",
    "version": 3
   },
   "file_extension": ".py",
   "mimetype": "text/x-python",
   "name": "python",
   "nbconvert_exporter": "python",
   "pygments_lexer": "ipython3",
   "version": "3.8.0"
  },
  "vscode": {
   "interpreter": {
    "hash": "64fe13408e820fc9cab9517bb7781f7abb747092ac9539484d704b83709bc6b6"
   }
  }
 },
 "nbformat": 4,
 "nbformat_minor": 4
}
